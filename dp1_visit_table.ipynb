{
 "cells": [
  {
   "cell_type": "code",
   "execution_count": null,
   "id": "45054f03-d8da-4eca-8b44-704a8b461d03",
   "metadata": {},
   "outputs": [],
   "source": [
    "#Notebook adapted from Neven Caplar"
   ]
  },
  {
   "cell_type": "markdown",
   "id": "ad9c54ae-94c2-4c8c-bef5-3e2d227953fe",
   "metadata": {
    "jp-MarkdownHeadingCollapsed": true
   },
   "source": [
    "This notebook queries butler to get the CcdVisit table for DP1. \n",
    "Schema can be found here https://sdm-schemas.lsst.io/dp1.html#CcdVisit"
   ]
  },
  {
   "cell_type": "code",
   "execution_count": null,
   "id": "c0bac524",
   "metadata": {},
   "outputs": [],
   "source": [
    "import numpy as np\n",
    "import matplotlib.pyplot as plt\n",
    "import matplotlib\n",
    "import pandas as pd\n",
    "from tqdm import tqdm\n",
    "\n",
    "from lsst.daf.butler import Butler"
   ]
  },
  {
   "cell_type": "code",
   "execution_count": null,
   "id": "53340c3d",
   "metadata": {},
   "outputs": [],
   "source": [
    "#From tutorial notebook 104_2\n",
    "\n",
    "butler = Butler(\"dp1\", collections=\"LSSTComCam/DP1\")"
   ]
  },
  {
   "cell_type": "code",
   "execution_count": null,
   "id": "cad4b4e5",
   "metadata": {},
   "outputs": [],
   "source": [
    "visit_refs = butler.query_datasets(\"visit_detector_table\")\n",
    "\n",
    "print(len(visit_refs))"
   ]
  },
  {
   "cell_type": "code",
   "execution_count": null,
   "id": "c9573596",
   "metadata": {},
   "outputs": [],
   "source": [
    "# List of tract indices to process\n",
    "tract_indices = np.arange(0, len(visit_refs))\n",
    "\n",
    "# Initialize lists to hold diaObj and diaSource DataFrames\n",
    "visit_list = []\n",
    "\n",
    "\n",
    "# Loop through the specified tracts and fetch the data\n",
    "for idx in tqdm(tract_indices):\n",
    "    visit_ref = visit_refs[idx]  # Select the corresponding visit_ref\n",
    "    visit_tract = butler.get(visit_ref)  # Fetch VisitTable for this tract \n",
    "    visit_tract = visit_tract.to_pandas()  # Convert to DataFrame   \n",
    "    # Append the results to the lists\n",
    "    visit_list.append(visit_tract)\n",
    "\n",
    "# Concatenate all diaObj and diaSource DataFrames\n",
    "combined_visit = pd.concat(visit_list, ignore_index=False)\n",
    "\n"
   ]
  },
  {
   "cell_type": "code",
   "execution_count": null,
   "id": "7ee0f2af-7b03-475f-bbbb-857d60a4f48d",
   "metadata": {},
   "outputs": [],
   "source": [
    "combined_visit"
   ]
  },
  {
   "cell_type": "code",
   "execution_count": null,
   "id": "1fd1d59c-f840-4b4b-bb6e-77e387cf9ed6",
   "metadata": {
    "scrolled": true
   },
   "outputs": [],
   "source": [
    "combined_visit.columns"
   ]
  },
  {
   "cell_type": "code",
   "execution_count": null,
   "id": "1805840b-e511-4eae-a816-d57af6882ae5",
   "metadata": {},
   "outputs": [],
   "source": [
    "np.unique(combined_visit['band'])"
   ]
  },
  {
   "cell_type": "code",
   "execution_count": null,
   "id": "b0bf3119-ef04-41da-a658-e8d4ab92fc9a",
   "metadata": {},
   "outputs": [],
   "source": [
    "plt.plot(combined_visit.ra,combined_visit.dec,'.')"
   ]
  },
  {
   "cell_type": "code",
   "execution_count": null,
   "id": "1dd776c7-70ba-482e-a91e-d7ba41282f24",
   "metadata": {},
   "outputs": [],
   "source": [
    "combined_visit.to_csv('dp1_visit_table.txt')"
   ]
  },
  {
   "cell_type": "code",
   "execution_count": null,
   "id": "7c61bf08-3261-47b7-a874-5741512dcf2c",
   "metadata": {},
   "outputs": [],
   "source": []
  }
 ],
 "metadata": {
  "kernelspec": {
   "display_name": "Python 3 (ipykernel)",
   "language": "python",
   "name": "python3"
  },
  "language_info": {
   "codemirror_mode": {
    "name": "ipython",
    "version": 3
   },
   "file_extension": ".py",
   "mimetype": "text/x-python",
   "name": "python",
   "nbconvert_exporter": "python",
   "pygments_lexer": "ipython3",
   "version": "3.10.15"
  }
 },
 "nbformat": 4,
 "nbformat_minor": 5
}
